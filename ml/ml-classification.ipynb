{
 "cells": [
  {
   "cell_type": "code",
   "execution_count": 1,
   "metadata": {},
   "outputs": [],
   "source": [
    "from pyspark.sql import SparkSession"
   ]
  },
  {
   "cell_type": "code",
   "execution_count": 2,
   "metadata": {},
   "outputs": [],
   "source": [
    "spark = SparkSession.builder.appName('pyspark-training-spark-ml').master('local[2]').getOrCreate()"
   ]
  },
  {
   "cell_type": "markdown",
   "metadata": {},
   "source": [
    "### https://www.kaggle.com/c/avazu-ctr-prediction/data"
   ]
  },
  {
   "cell_type": "markdown",
   "metadata": {},
   "source": [
    "### model"
   ]
  },
  {
   "cell_type": "markdown",
   "metadata": {},
   "source": [
    "##### id: ad identifier\n",
    "##### click: 0/1 for non-click/click\n",
    "##### hour: format is YYMMDDHH, so 14091123 means 23:00 on Sept. 11, 2014 UTC.\n",
    "##### C1 -- anonymized categorical variable\n",
    "##### banner_pos\n",
    "##### site_id\n",
    "##### site_domain\n",
    "##### site_category\n",
    "##### app_id\n",
    "##### app_domain\n",
    "##### app_category\n",
    "##### device_id\n",
    "##### device_ip\n",
    "##### device_model\n",
    "##### device_type\n",
    "##### device_conn_type\n",
    "##### C14-C21 -- anonymized categorical variables"
   ]
  },
  {
   "cell_type": "code",
   "execution_count": 45,
   "metadata": {},
   "outputs": [],
   "source": [
    "df = spark.read.parquet('D:\\\\data\\\\click-through-kaggle-train-pqt')"
   ]
  },
  {
   "cell_type": "markdown",
   "metadata": {},
   "source": [
    "### Analyze data"
   ]
  },
  {
   "cell_type": "code",
   "execution_count": 46,
   "metadata": {
    "scrolled": true
   },
   "outputs": [
    {
     "name": "stdout",
     "output_type": "stream",
     "text": [
      "root\n",
      " |-- id: decimal(20,0) (nullable = true)\n",
      " |-- click: integer (nullable = true)\n",
      " |-- hour: integer (nullable = true)\n",
      " |-- C1: integer (nullable = true)\n",
      " |-- banner_pos: integer (nullable = true)\n",
      " |-- site_id: string (nullable = true)\n",
      " |-- site_domain: string (nullable = true)\n",
      " |-- site_category: string (nullable = true)\n",
      " |-- app_id: string (nullable = true)\n",
      " |-- app_domain: string (nullable = true)\n",
      " |-- app_category: string (nullable = true)\n",
      " |-- device_id: string (nullable = true)\n",
      " |-- device_ip: string (nullable = true)\n",
      " |-- device_model: string (nullable = true)\n",
      " |-- device_type: integer (nullable = true)\n",
      " |-- device_conn_type: integer (nullable = true)\n",
      " |-- C14: integer (nullable = true)\n",
      " |-- C15: integer (nullable = true)\n",
      " |-- C16: integer (nullable = true)\n",
      " |-- C17: integer (nullable = true)\n",
      " |-- C18: integer (nullable = true)\n",
      " |-- C19: integer (nullable = true)\n",
      " |-- C20: integer (nullable = true)\n",
      " |-- C21: integer (nullable = true)\n",
      "\n"
     ]
    }
   ],
   "source": [
    "df.printSchema()"
   ]
  },
  {
   "cell_type": "code",
   "execution_count": 47,
   "metadata": {
    "scrolled": true
   },
   "outputs": [
    {
     "data": {
      "text/plain": [
       "500000"
      ]
     },
     "execution_count": 47,
     "metadata": {},
     "output_type": "execute_result"
    }
   ],
   "source": [
    "df.count()"
   ]
  },
  {
   "cell_type": "code",
   "execution_count": 48,
   "metadata": {},
   "outputs": [
    {
     "data": {
      "text/plain": [
       "['id',\n",
       " 'click',\n",
       " 'hour',\n",
       " 'C1',\n",
       " 'banner_pos',\n",
       " 'site_id',\n",
       " 'site_domain',\n",
       " 'site_category',\n",
       " 'app_id',\n",
       " 'app_domain',\n",
       " 'app_category',\n",
       " 'device_id',\n",
       " 'device_ip',\n",
       " 'device_model',\n",
       " 'device_type',\n",
       " 'device_conn_type',\n",
       " 'C14',\n",
       " 'C15',\n",
       " 'C16',\n",
       " 'C17',\n",
       " 'C18',\n",
       " 'C19',\n",
       " 'C20',\n",
       " 'C21']"
      ]
     },
     "execution_count": 48,
     "metadata": {},
     "output_type": "execute_result"
    }
   ],
   "source": [
    "df.columns"
   ]
  },
  {
   "cell_type": "code",
   "execution_count": 49,
   "metadata": {},
   "outputs": [
    {
     "name": "stdout",
     "output_type": "stream",
     "text": [
      "id 500000\n",
      "click 2\n",
      "hour 4\n",
      "C1 6\n",
      "banner_pos 6\n",
      "site_id 1707\n",
      "site_domain 1832\n",
      "site_category 16\n",
      "app_id 1388\n",
      "app_domain 90\n",
      "app_category 21\n",
      "device_id 71136\n",
      "device_ip 197968\n",
      "device_model 3933\n",
      "device_type 4\n",
      "device_conn_type 4\n",
      "C14 847\n",
      "C15 8\n",
      "C16 9\n",
      "C17 177\n",
      "C18 4\n",
      "C19 41\n",
      "C20 157\n",
      "C21 32\n"
     ]
    }
   ],
   "source": [
    "for col in df.columns:\n",
    "    print(col, df.select(col).distinct().count())"
   ]
  },
  {
   "cell_type": "markdown",
   "metadata": {},
   "source": [
    "### Feature engineering"
   ]
  },
  {
   "cell_type": "code",
   "execution_count": 103,
   "metadata": {},
   "outputs": [],
   "source": [
    "from pyspark.ml.feature import StringIndexer\n",
    "from pyspark.ml.feature import OneHotEncoder\n",
    "from pyspark.ml.feature import VectorAssembler\n",
    "from pyspark.ml import Pipeline\n",
    "from pyspark.ml.feature import StandardScaler\n",
    "from pyspark.ml.evaluation import MulticlassClassificationEvaluator"
   ]
  },
  {
   "cell_type": "markdown",
   "metadata": {},
   "source": [
    "#### one hot encoding of categorical variables"
   ]
  },
  {
   "cell_type": "code",
   "execution_count": null,
   "metadata": {},
   "outputs": [],
   "source": []
  },
  {
   "cell_type": "code",
   "execution_count": 51,
   "metadata": {},
   "outputs": [],
   "source": [
    "categorical_columns = ['banner_pos', 'device_type', 'device_conn_type', 'app_category', 'site_category']"
   ]
  },
  {
   "cell_type": "code",
   "execution_count": 52,
   "metadata": {},
   "outputs": [],
   "source": [
    "stages = []\n",
    "indexers = [\n",
    "     StringIndexer(inputCol=c, outputCol='{0}_indexed'.format(c))\n",
    "     for c in categorical_columns\n",
    "   ]\n",
    "input_cols = [indexer.getOutputCol() for indexer in indexers]\n",
    "output_cols = ['{}_encoded'.format(indexer.getOutputCol()) for indexer in indexers]\n",
    "encoders = OneHotEncoder(inputCols=input_cols, outputCols=output_cols)\n",
    "stages += indexers\n",
    "stages += [encoders]"
   ]
  },
  {
   "cell_type": "markdown",
   "metadata": {},
   "source": [
    "#### label indexing"
   ]
  },
  {
   "cell_type": "code",
   "execution_count": 53,
   "metadata": {},
   "outputs": [],
   "source": [
    "label_indexer = StringIndexer(inputCol=\"click\", outputCol=\"label\")\n",
    "stages += [label_indexer]"
   ]
  },
  {
   "cell_type": "code",
   "execution_count": 54,
   "metadata": {},
   "outputs": [],
   "source": [
    "other_columns = ['id', 'site_id', 'site_domain', 'app_id', 'app_domain', 'device_id', 'device_ip', 'device_model', 'click']\n",
    "all_columns = df.columns\n",
    "numeric_columns = list(set(all_columns) - set(categorical_columns) - set(other_columns))"
   ]
  },
  {
   "cell_type": "code",
   "execution_count": 55,
   "metadata": {
    "scrolled": false
   },
   "outputs": [
    {
     "data": {
      "text/plain": [
       "['C16', 'C14', 'C15', 'hour', 'C1', 'C19', 'C20', 'C17', 'C21', 'C18']"
      ]
     },
     "execution_count": 55,
     "metadata": {},
     "output_type": "execute_result"
    }
   ],
   "source": [
    "numeric_columns"
   ]
  },
  {
   "cell_type": "markdown",
   "metadata": {},
   "source": [
    "#### assembling all the features using a vector assembler"
   ]
  },
  {
   "cell_type": "code",
   "execution_count": 56,
   "metadata": {},
   "outputs": [],
   "source": [
    "assembler_input_cols = encoders.getOutputCols() + numeric_columns\n",
    "assembler = VectorAssembler(inputCols=assembler_input_cols, outputCol=\"vectorized_features\")\n",
    "stages += [assembler]"
   ]
  },
  {
   "cell_type": "markdown",
   "metadata": {},
   "source": [
    "#### creating a pipeline to perform all the stages"
   ]
  },
  {
   "cell_type": "code",
   "execution_count": 57,
   "metadata": {},
   "outputs": [],
   "source": [
    "pipeline = Pipeline().setStages(stages)\n",
    "assembled = pipeline.fit(df)\n",
    "df_assembled = assembled.transform(df)"
   ]
  },
  {
   "cell_type": "code",
   "execution_count": 58,
   "metadata": {},
   "outputs": [],
   "source": [
    "df_vectorized = df_assembled.select('id', 'vectorized_features', 'label')"
   ]
  },
  {
   "cell_type": "markdown",
   "metadata": {},
   "source": [
    "#### scaling the data with the help of a StandardScaler"
   ]
  },
  {
   "cell_type": "code",
   "execution_count": 59,
   "metadata": {},
   "outputs": [],
   "source": [
    "scaler = StandardScaler(inputCol=\"vectorized_features\", outputCol=\"features\",\n",
    "                        withStd=True, withMean=False)"
   ]
  },
  {
   "cell_type": "code",
   "execution_count": 60,
   "metadata": {},
   "outputs": [],
   "source": [
    "scaler_model = scaler.fit(df_vectorized)"
   ]
  },
  {
   "cell_type": "code",
   "execution_count": 61,
   "metadata": {},
   "outputs": [],
   "source": [
    "df_scaled = scaler_model.transform(df_vectorized).drop('vectorized_features')"
   ]
  },
  {
   "cell_type": "code",
   "execution_count": 62,
   "metadata": {},
   "outputs": [
    {
     "name": "stdout",
     "output_type": "stream",
     "text": [
      "+--------------------+-----+--------------------+\n",
      "|                  id|label|            features|\n",
      "+--------------------+-----+--------------------+\n",
      "|13438938916556439466|  1.0|(56,[1,5,8,11,32,...|\n",
      "|13439050860308297569|  0.0|(56,[0,5,8,12,31,...|\n",
      "| 1343908897585470171|  0.0|(56,[0,5,8,12,31,...|\n",
      "|13439188275655738522|  0.0|(56,[1,5,8,11,32,...|\n",
      "|13439191819288197832|  0.0|(56,[0,5,10,12,31...|\n",
      "|13439344692531313628|  0.0|(56,[0,5,8,11,33,...|\n",
      "|13439371205014005161|  0.0|(56,[1,5,9,12,31,...|\n",
      "|13439486992814922112|  1.0|(56,[0,6,8,11,31,...|\n",
      "|13439709364885762232|  0.0|(56,[0,6,8,11,31,...|\n",
      "| 1343972248019343137|  0.0|(56,[0,5,8,11,33,...|\n",
      "| 1343972590469623013|  0.0|(56,[0,5,8,11,34,...|\n",
      "|13439744874038142235|  0.0|(56,[1,5,8,11,34,...|\n",
      "|13440085559813320362|  1.0|(56,[0,5,8,12,31,...|\n",
      "|13440086428653076955|  0.0|(56,[0,5,10,12,31...|\n",
      "|13440232523560932451|  0.0|(56,[0,5,9,11,31,...|\n",
      "|13440239267259348683|  0.0|(56,[0,5,8,11,33,...|\n",
      "|13440313598253076349|  0.0|(56,[0,5,9,14,31,...|\n",
      "|13440434645328322517|  1.0|(56,[0,5,8,12,31,...|\n",
      "|13440517678367303443|  0.0|(56,[0,5,8,11,34,...|\n",
      "|13440547769328895043|  0.0|(56,[0,5,8,11,33,...|\n",
      "+--------------------+-----+--------------------+\n",
      "only showing top 20 rows\n",
      "\n"
     ]
    }
   ],
   "source": [
    "df_scaled.show()"
   ]
  },
  {
   "cell_type": "code",
   "execution_count": 94,
   "metadata": {},
   "outputs": [],
   "source": [
    "df_train, df_test = df_scaled.randomSplit([0.7, 0.3], seed=42)"
   ]
  },
  {
   "cell_type": "markdown",
   "metadata": {},
   "source": [
    "### Building the model"
   ]
  },
  {
   "cell_type": "code",
   "execution_count": 89,
   "metadata": {},
   "outputs": [],
   "source": [
    "def feature_engineering(df):\n",
    "    categorical_columns = ['banner_pos', 'device_type', 'device_conn_type', 'app_category', 'site_category']\n",
    "    \n",
    "    stages = []\n",
    "    indexers = [\n",
    "         StringIndexer(inputCol=c, outputCol='{0}_indexed'.format(c))\n",
    "         for c in categorical_columns\n",
    "       ]\n",
    "    input_cols = [indexer.getOutputCol() for indexer in indexers]\n",
    "    output_cols = ['{}_encoded'.format(indexer.getOutputCol()) for indexer in indexers]\n",
    "    encoders = OneHotEncoder(inputCols=input_cols, outputCols=output_cols)\n",
    "    stages += indexers\n",
    "    stages += [encoders]\n",
    "    label_indexer = StringIndexer(inputCol=\"click\", outputCol=\"label\")\n",
    "    stages += [label_indexer]\n",
    "    other_columns = ['id', 'site_id', 'site_domain', 'app_id', 'app_domain', 'device_id', 'device_ip', 'device_model', 'click']\n",
    "    all_columns = df.columns\n",
    "    numeric_columns = list(set(all_columns) - set(categorical_columns) - set(other_columns))\n",
    "    assembler_input_cols = encoders.getOutputCols() + numeric_columns\n",
    "    assembler = VectorAssembler(inputCols=assembler_input_cols, outputCol=\"vectorized_features\")\n",
    "    stages += [assembler]\n",
    "    pipeline = Pipeline().setStages(stages)\n",
    "    assembled = pipeline.fit(df)\n",
    "    df_assembled = assembled.transform(df)\n",
    "    df_vectorized = df_assembled.select('id', 'vectorized_features', 'label')\n",
    "    scaler = StandardScaler(inputCol=\"vectorized_features\", outputCol=\"features\",\n",
    "                            withStd=True, withMean=False)\n",
    "    scaler_model = scaler.fit(df_vectorized)\n",
    "    df_scaled = scaler_model.transform(df_vectorized).drop('vectorized_features')\n",
    "    return df_scaled"
   ]
  },
  {
   "cell_type": "markdown",
   "metadata": {},
   "source": [
    "#### GBT"
   ]
  },
  {
   "cell_type": "markdown",
   "metadata": {},
   "source": [
    "##### train"
   ]
  },
  {
   "cell_type": "code",
   "execution_count": 63,
   "metadata": {},
   "outputs": [],
   "source": [
    "from pyspark.ml.classification import GBTClassifier"
   ]
  },
  {
   "cell_type": "code",
   "execution_count": 64,
   "metadata": {},
   "outputs": [],
   "source": [
    "gbt = GBTClassifier(labelCol=\"label\", featuresCol=\"features\", maxIter=10)"
   ]
  },
  {
   "cell_type": "code",
   "execution_count": 95,
   "metadata": {},
   "outputs": [],
   "source": [
    "model_gbt = gbt.fit(df_train)"
   ]
  },
  {
   "cell_type": "code",
   "execution_count": 96,
   "metadata": {},
   "outputs": [],
   "source": [
    "df_test_pred = model_gbt.transform(df_test)"
   ]
  },
  {
   "cell_type": "code",
   "execution_count": 101,
   "metadata": {},
   "outputs": [
    {
     "name": "stdout",
     "output_type": "stream",
     "text": [
      "+----------+------+\n",
      "|prediction| count|\n",
      "+----------+------+\n",
      "|       0.0|149366|\n",
      "|       1.0|   769|\n",
      "+----------+------+\n",
      "\n"
     ]
    }
   ],
   "source": [
    "df_test_pred.groupBy('prediction').count().show()"
   ]
  },
  {
   "cell_type": "code",
   "execution_count": 100,
   "metadata": {},
   "outputs": [
    {
     "name": "stdout",
     "output_type": "stream",
     "text": [
      "+----------------+-----+----------------------------------------+----------+\n",
      "|id              |label|probability                             |prediction|\n",
      "+----------------+-----+----------------------------------------+----------+\n",
      "|129263355726160 |0.0  |[0.8655697051338427,0.13443029486615732]|0.0       |\n",
      "|337879153775332 |0.0  |[0.9026415181790906,0.09735848182090945]|0.0       |\n",
      "|437068175922770 |0.0  |[0.8443882247188244,0.15561177528117565]|0.0       |\n",
      "|438702421250968 |0.0  |[0.8874772008275934,0.1125227991724066] |0.0       |\n",
      "|522487037763823 |0.0  |[0.8610261187487995,0.13897388125120047]|0.0       |\n",
      "|585076171034385 |1.0  |[0.8474663468791906,0.15253365312080935]|0.0       |\n",
      "|772199976867910 |0.0  |[0.8389047930619687,0.16109520693803125]|0.0       |\n",
      "|945082610781181 |0.0  |[0.8389047930619687,0.16109520693803125]|0.0       |\n",
      "|1073435849427196|0.0  |[0.8680747237275492,0.13192527627245076]|0.0       |\n",
      "|1200142667419110|0.0  |[0.8655697051338427,0.13443029486615732]|0.0       |\n",
      "|1276653079490946|0.0  |[0.8443882247188244,0.15561177528117565]|0.0       |\n",
      "|1496437592975512|0.0  |[0.9200760896556117,0.07992391034438828]|0.0       |\n",
      "|1504829388452853|0.0  |[0.8856210962160184,0.11437890378398163]|0.0       |\n",
      "|1590824904405165|0.0  |[0.8468222188077515,0.15317778119224845]|0.0       |\n",
      "|1612132234242768|0.0  |[0.9200760896556117,0.07992391034438828]|0.0       |\n",
      "|1623256500105578|1.0  |[0.8389047930619687,0.16109520693803125]|0.0       |\n",
      "|1624972527195297|0.0  |[0.9128348337941922,0.08716516620580783]|0.0       |\n",
      "|1796951771593886|0.0  |[0.8954661944712063,0.10453380552879366]|0.0       |\n",
      "|1952267049409466|0.0  |[0.7402966077514426,0.25970339224855743]|0.0       |\n",
      "|2013527328888852|0.0  |[0.7997799230893984,0.20022007691060162]|0.0       |\n",
      "+----------------+-----+----------------------------------------+----------+\n",
      "only showing top 20 rows\n",
      "\n"
     ]
    }
   ],
   "source": [
    "df_test_pred.select('id', 'label', 'probability', 'prediction').show(20, False)"
   ]
  },
  {
   "cell_type": "code",
   "execution_count": 165,
   "metadata": {},
   "outputs": [
    {
     "data": {
      "text/plain": [
       "DataFrame[id: decimal(20,0), label: double, features: vector, rawPrediction: vector, probability: vector, prediction: double]"
      ]
     },
     "execution_count": 165,
     "metadata": {},
     "output_type": "execute_result"
    }
   ],
   "source": [
    "df_test_pred"
   ]
  },
  {
   "cell_type": "code",
   "execution_count": 166,
   "metadata": {},
   "outputs": [],
   "source": [
    "from pyspark.ml.functions import vector_to_array"
   ]
  },
  {
   "cell_type": "code",
   "execution_count": 162,
   "metadata": {},
   "outputs": [],
   "source": [
    "import pyspark.sql.functions as f"
   ]
  },
  {
   "cell_type": "code",
   "execution_count": 186,
   "metadata": {},
   "outputs": [],
   "source": [
    "df_test_pred_f = df_test_pred.withColumn('probability', vector_to_array('probability'))\\\n",
    "                   .withColumn('pred_proba', f.when(f.col('probability')[1] > 0.3, 1.0).otherwise(0.0))"
   ]
  },
  {
   "cell_type": "code",
   "execution_count": 187,
   "metadata": {},
   "outputs": [
    {
     "data": {
      "text/plain": [
       "DataFrame[id: decimal(20,0), label: double, features: vector, rawPrediction: vector, probability: array<double>, prediction: double, pred_proba: double]"
      ]
     },
     "execution_count": 187,
     "metadata": {},
     "output_type": "execute_result"
    }
   ],
   "source": [
    "df_test_pred_f"
   ]
  },
  {
   "cell_type": "code",
   "execution_count": 188,
   "metadata": {
    "scrolled": true
   },
   "outputs": [
    {
     "name": "stdout",
     "output_type": "stream",
     "text": [
      "+----------------+-----+-----------------------------------------+----------+\n",
      "|id              |label|probability                              |pred_proba|\n",
      "+----------------+-----+-----------------------------------------+----------+\n",
      "|129263355726160 |0.0  |[0.8655697051338427, 0.13443029486615732]|0.0       |\n",
      "|337879153775332 |0.0  |[0.9026415181790906, 0.09735848182090945]|0.0       |\n",
      "|437068175922770 |0.0  |[0.8443882247188244, 0.15561177528117565]|0.0       |\n",
      "|438702421250968 |0.0  |[0.8874772008275934, 0.1125227991724066] |0.0       |\n",
      "|522487037763823 |0.0  |[0.8610261187487995, 0.13897388125120047]|0.0       |\n",
      "|585076171034385 |1.0  |[0.8474663468791906, 0.15253365312080935]|0.0       |\n",
      "|772199976867910 |0.0  |[0.8389047930619687, 0.16109520693803125]|0.0       |\n",
      "|945082610781181 |0.0  |[0.8389047930619687, 0.16109520693803125]|0.0       |\n",
      "|1073435849427196|0.0  |[0.8680747237275492, 0.13192527627245076]|0.0       |\n",
      "|1200142667419110|0.0  |[0.8655697051338427, 0.13443029486615732]|0.0       |\n",
      "|1276653079490946|0.0  |[0.8443882247188244, 0.15561177528117565]|0.0       |\n",
      "|1496437592975512|0.0  |[0.9200760896556117, 0.07992391034438828]|0.0       |\n",
      "|1504829388452853|0.0  |[0.8856210962160184, 0.11437890378398163]|0.0       |\n",
      "|1590824904405165|0.0  |[0.8468222188077515, 0.15317778119224845]|0.0       |\n",
      "|1612132234242768|0.0  |[0.9200760896556117, 0.07992391034438828]|0.0       |\n",
      "|1623256500105578|1.0  |[0.8389047930619687, 0.16109520693803125]|0.0       |\n",
      "|1624972527195297|0.0  |[0.9128348337941922, 0.08716516620580783]|0.0       |\n",
      "|1796951771593886|0.0  |[0.8954661944712063, 0.10453380552879366]|0.0       |\n",
      "|1952267049409466|0.0  |[0.7402966077514426, 0.25970339224855743]|0.0       |\n",
      "|2013527328888852|0.0  |[0.7997799230893984, 0.20022007691060162]|0.0       |\n",
      "+----------------+-----+-----------------------------------------+----------+\n",
      "only showing top 20 rows\n",
      "\n"
     ]
    }
   ],
   "source": [
    "df_test_pred_f.select('id', 'label', 'probability', 'pred_proba').show(20, False)"
   ]
  },
  {
   "cell_type": "markdown",
   "metadata": {},
   "source": [
    "# Confusion matrix"
   ]
  },
  {
   "attachments": {
    "image.png": {
     "image/png": "[encoded data removed]"
    }
   },
   "cell_type": "markdown",
   "metadata": {},
   "source": [
    "![image.png](attachment:image.png)"
   ]
  },
  {
   "cell_type": "code",
   "execution_count": 189,
   "metadata": {},
   "outputs": [],
   "source": [
    "from pyspark.mllib.evaluation import MulticlassMetrics"
   ]
  },
  {
   "cell_type": "code",
   "execution_count": 190,
   "metadata": {},
   "outputs": [],
   "source": [
    "rdd_pred_label = df_test_pred_f.select('pred_proba', 'label').rdd"
   ]
  },
  {
   "cell_type": "code",
   "execution_count": 191,
   "metadata": {},
   "outputs": [],
   "source": [
    "metrics = MulticlassMetrics(rdd_pred_label)"
   ]
  },
  {
   "cell_type": "code",
   "execution_count": 192,
   "metadata": {
    "scrolled": true
   },
   "outputs": [
    {
     "data": {
      "text/plain": [
       "0.8242781496653012"
      ]
     },
     "execution_count": 192,
     "metadata": {},
     "output_type": "execute_result"
    }
   ],
   "source": [
    "metrics.accuracy"
   ]
  },
  {
   "cell_type": "code",
   "execution_count": 196,
   "metadata": {},
   "outputs": [
    {
     "data": {
      "text/plain": [
       "array([[119225.,   7602.],\n",
       "       [ 18780.,   4528.]])"
      ]
     },
     "execution_count": 196,
     "metadata": {},
     "output_type": "execute_result"
    }
   ],
   "source": [
    "metrics.confusionMatrix().toArray()"
   ]
  },
  {
   "cell_type": "code",
   "execution_count": 201,
   "metadata": {
    "scrolled": true
   },
   "outputs": [
    {
     "data": {
      "text/plain": [
       "0.8639179739864498"
      ]
     },
     "execution_count": 201,
     "metadata": {},
     "output_type": "execute_result"
    }
   ],
   "source": [
    "metrics.precision(0)"
   ]
  },
  {
   "cell_type": "code",
   "execution_count": 200,
   "metadata": {},
   "outputs": [
    {
     "data": {
      "text/plain": [
       "0.9400600818437714"
      ]
     },
     "execution_count": 200,
     "metadata": {},
     "output_type": "execute_result"
    }
   ],
   "source": [
    "metrics.recall(0)"
   ]
  },
  {
   "cell_type": "markdown",
   "metadata": {},
   "source": [
    "#### Random Forest"
   ]
  },
  {
   "cell_type": "code",
   "execution_count": 67,
   "metadata": {},
   "outputs": [],
   "source": [
    "from pyspark.ml.classification import RandomForestClassifier"
   ]
  },
  {
   "cell_type": "code",
   "execution_count": 68,
   "metadata": {},
   "outputs": [],
   "source": [
    "rf = RandomForestClassifier(labelCol=\"label\", featuresCol=\"features\", numTrees=10)"
   ]
  },
  {
   "cell_type": "code",
   "execution_count": 204,
   "metadata": {},
   "outputs": [],
   "source": [
    "model_rf = rf.fit(df_train)"
   ]
  },
  {
   "cell_type": "code",
   "execution_count": 205,
   "metadata": {},
   "outputs": [],
   "source": [
    "df_test_pred = model_rf.transform(df_test)"
   ]
  },
  {
   "cell_type": "code",
   "execution_count": 207,
   "metadata": {},
   "outputs": [],
   "source": [
    "df_test_pred_f = df_test_pred.withColumn('probability', vector_to_array('probability'))\\\n",
    "                   .withColumn('pred_proba', f.when(f.col('probability')[1] > 0.3, 1.0).otherwise(0.0))"
   ]
  },
  {
   "cell_type": "code",
   "execution_count": 208,
   "metadata": {},
   "outputs": [],
   "source": [
    "rdd_pred_label = df_test_pred_f.select('pred_proba', 'label').rdd"
   ]
  },
  {
   "cell_type": "code",
   "execution_count": 209,
   "metadata": {},
   "outputs": [
    {
     "name": "stderr",
     "output_type": "stream",
     "text": [
      "c:\\users\\mohit\\appdata\\local\\programs\\python\\python37\\lib\\site-packages\\pyspark\\sql\\context.py:127: FutureWarning: Deprecated in 3.0.0. Use SparkSession.builder.getOrCreate() instead.\n",
      "  FutureWarning\n"
     ]
    }
   ],
   "source": [
    "metrics = MulticlassMetrics(rdd_pred_label)"
   ]
  },
  {
   "cell_type": "code",
   "execution_count": 210,
   "metadata": {
    "scrolled": true
   },
   "outputs": [
    {
     "data": {
      "text/plain": [
       "0.8467579178739135"
      ]
     },
     "execution_count": 210,
     "metadata": {},
     "output_type": "execute_result"
    }
   ],
   "source": [
    "metrics.accuracy"
   ]
  },
  {
   "cell_type": "code",
   "execution_count": 211,
   "metadata": {},
   "outputs": [
    {
     "data": {
      "text/plain": [
       "array([[126582.,    245.],\n",
       "       [ 22762.,    546.]])"
      ]
     },
     "execution_count": 211,
     "metadata": {},
     "output_type": "execute_result"
    }
   ],
   "source": [
    "metrics.confusionMatrix().toArray()"
   ]
  },
  {
   "cell_type": "code",
   "execution_count": 212,
   "metadata": {
    "scrolled": true
   },
   "outputs": [
    {
     "data": {
      "text/plain": [
       "0.8475867795157489"
      ]
     },
     "execution_count": 212,
     "metadata": {},
     "output_type": "execute_result"
    }
   ],
   "source": [
    "metrics.precision(0)"
   ]
  },
  {
   "cell_type": "code",
   "execution_count": 213,
   "metadata": {},
   "outputs": [
    {
     "data": {
      "text/plain": [
       "0.9980682346818895"
      ]
     },
     "execution_count": 213,
     "metadata": {},
     "output_type": "execute_result"
    }
   ],
   "source": [
    "metrics.recall(0)"
   ]
  },
  {
   "cell_type": "markdown",
   "metadata": {},
   "source": [
    "#### Decision Tree"
   ]
  },
  {
   "cell_type": "code",
   "execution_count": 71,
   "metadata": {},
   "outputs": [],
   "source": [
    "from pyspark.ml.classification import DecisionTreeClassifier"
   ]
  },
  {
   "cell_type": "code",
   "execution_count": 72,
   "metadata": {},
   "outputs": [],
   "source": [
    "dt = DecisionTreeClassifier(labelCol=\"label\", featuresCol=\"features\")"
   ]
  },
  {
   "cell_type": "code",
   "execution_count": 215,
   "metadata": {},
   "outputs": [],
   "source": [
    "model_dt = dt.fit(df_train)"
   ]
  },
  {
   "cell_type": "code",
   "execution_count": 216,
   "metadata": {},
   "outputs": [],
   "source": [
    "df_test_pred = model_dt.transform(df_test)"
   ]
  },
  {
   "cell_type": "code",
   "execution_count": 217,
   "metadata": {},
   "outputs": [],
   "source": [
    "df_test_pred_f = df_test_pred.withColumn('probability', vector_to_array('probability'))\\\n",
    "                   .withColumn('pred_proba', f.when(f.col('probability')[1] > 0.3, 1.0).otherwise(0.0))"
   ]
  },
  {
   "cell_type": "code",
   "execution_count": 218,
   "metadata": {},
   "outputs": [],
   "source": [
    "rdd_pred_label = df_test_pred_f.select('pred_proba', 'label').rdd"
   ]
  },
  {
   "cell_type": "code",
   "execution_count": 219,
   "metadata": {},
   "outputs": [],
   "source": [
    "metrics = MulticlassMetrics(rdd_pred_label)"
   ]
  },
  {
   "cell_type": "code",
   "execution_count": 220,
   "metadata": {
    "scrolled": true
   },
   "outputs": [
    {
     "data": {
      "text/plain": [
       "0.8407233489859127"
      ]
     },
     "execution_count": 220,
     "metadata": {},
     "output_type": "execute_result"
    }
   ],
   "source": [
    "metrics.accuracy"
   ]
  },
  {
   "cell_type": "code",
   "execution_count": 221,
   "metadata": {},
   "outputs": [
    {
     "data": {
      "text/plain": [
       "array([[124151.,   2676.],\n",
       "       [ 21237.,   2071.]])"
      ]
     },
     "execution_count": 221,
     "metadata": {},
     "output_type": "execute_result"
    }
   ],
   "source": [
    "metrics.confusionMatrix().toArray()"
   ]
  },
  {
   "cell_type": "code",
   "execution_count": 222,
   "metadata": {
    "scrolled": true
   },
   "outputs": [
    {
     "data": {
      "text/plain": [
       "0.8539287974248219"
      ]
     },
     "execution_count": 222,
     "metadata": {},
     "output_type": "execute_result"
    }
   ],
   "source": [
    "metrics.precision(0)"
   ]
  },
  {
   "cell_type": "code",
   "execution_count": 223,
   "metadata": {},
   "outputs": [
    {
     "data": {
      "text/plain": [
       "0.9789003918723931"
      ]
     },
     "execution_count": 223,
     "metadata": {},
     "output_type": "execute_result"
    }
   ],
   "source": [
    "metrics.recall(0)"
   ]
  },
  {
   "cell_type": "markdown",
   "metadata": {},
   "source": [
    "#### Logistic Regression"
   ]
  },
  {
   "cell_type": "code",
   "execution_count": 75,
   "metadata": {},
   "outputs": [],
   "source": [
    "from pyspark.ml.classification import LogisticRegression"
   ]
  },
  {
   "cell_type": "code",
   "execution_count": 76,
   "metadata": {},
   "outputs": [],
   "source": [
    "lr = LogisticRegression(labelCol=\"label\", featuresCol=\"features\", maxIter=10, regParam=0.3, elasticNetParam=0.8)"
   ]
  },
  {
   "cell_type": "code",
   "execution_count": 224,
   "metadata": {},
   "outputs": [],
   "source": [
    "model_lr = lr.fit(df_train)"
   ]
  },
  {
   "cell_type": "code",
   "execution_count": 233,
   "metadata": {},
   "outputs": [],
   "source": [
    "df_test_pred = model_lr.transform(df_test)"
   ]
  },
  {
   "cell_type": "code",
   "execution_count": 234,
   "metadata": {},
   "outputs": [],
   "source": [
    "df_test_pred_f = df_test_pred.withColumn('probability', vector_to_array('probability'))\\\n",
    "                   .withColumn('pred_proba', f.when(f.col('probability')[1] > 0.3, 1.0).otherwise(0.0))"
   ]
  },
  {
   "cell_type": "code",
   "execution_count": 235,
   "metadata": {},
   "outputs": [],
   "source": [
    "rdd_pred_label = df_test_pred_f.select('pred_proba', 'label').rdd"
   ]
  },
  {
   "cell_type": "code",
   "execution_count": 236,
   "metadata": {},
   "outputs": [],
   "source": [
    "metrics = MulticlassMetrics(rdd_pred_label)"
   ]
  },
  {
   "cell_type": "code",
   "execution_count": 237,
   "metadata": {
    "scrolled": true
   },
   "outputs": [
    {
     "data": {
      "text/plain": [
       "0.8447530555833084"
      ]
     },
     "execution_count": 237,
     "metadata": {},
     "output_type": "execute_result"
    }
   ],
   "source": [
    "metrics.accuracy"
   ]
  },
  {
   "cell_type": "code",
   "execution_count": 238,
   "metadata": {},
   "outputs": [
    {
     "data": {
      "text/plain": [
       "array([[126827.,      0.],\n",
       "       [ 23308.,      0.]])"
      ]
     },
     "execution_count": 238,
     "metadata": {},
     "output_type": "execute_result"
    }
   ],
   "source": [
    "metrics.confusionMatrix().toArray()"
   ]
  },
  {
   "cell_type": "code",
   "execution_count": 239,
   "metadata": {
    "scrolled": true
   },
   "outputs": [
    {
     "data": {
      "text/plain": [
       "0.8447530555833084"
      ]
     },
     "execution_count": 239,
     "metadata": {},
     "output_type": "execute_result"
    }
   ],
   "source": [
    "metrics.precision(0)"
   ]
  },
  {
   "cell_type": "code",
   "execution_count": 240,
   "metadata": {},
   "outputs": [
    {
     "data": {
      "text/plain": [
       "1.0"
      ]
     },
     "execution_count": 240,
     "metadata": {},
     "output_type": "execute_result"
    }
   ],
   "source": [
    "metrics.recall(0)"
   ]
  }
 ],
 "metadata": {
  "kernelspec": {
   "display_name": "Python 3",
   "language": "python",
   "name": "python3"
  },
  "language_info": {
   "codemirror_mode": {
    "name": "ipython",
    "version": 3
   },
   "file_extension": ".py",
   "mimetype": "text/x-python",
   "name": "python",
   "nbconvert_exporter": "python",
   "pygments_lexer": "ipython3",
   "version": "3.7.6"
  }
 },
 "nbformat": 4,
 "nbformat_minor": 4
}
